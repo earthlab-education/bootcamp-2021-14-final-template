{
 "cells": [
  {
   "cell_type": "markdown",
   "metadata": {
    "deletable": false,
    "editable": false,
    "nbgrader": {
     "cell_type": "markdown",
     "checksum": "c2c274f0100abd4f368baea0d956fef5",
     "grade": false,
     "grade_id": "instructions",
     "locked": true,
     "schema_version": 3,
     "solution": false,
     "task": false
    }
   },
   "source": [
    " ## Final Assignment Template - Earth Analytics Bootcamp\n",
    " \n",
    " The assignment repo for this week contains a `README.md` file with \n",
    " instructions to complete your final assignment. Follow those \n",
    " instructions closely!"
   ]
  },
  {
   "cell_type": "code",
   "execution_count": null,
   "metadata": {
    "deletable": false,
    "editable": false,
    "hideCode": false,
    "hidePrompt": false,
    "nbgrader": {
     "cell_type": "code",
     "checksum": "6ac3158789e6aeb19b98e0958cc0b386",
     "grade": true,
     "grade_id": "core-imports",
     "locked": true,
     "points": 0,
     "schema_version": 3,
     "solution": false,
     "task": false
    }
   },
   "outputs": [],
   "source": [
    "# Core imports needed for grading - DO NOT MODIFY THIS CELL\n",
    "from glob import glob\n",
    "import os\n",
    "\n",
    "import hydrofunctions as hf\n",
    "import earthpy as et\n",
    "import seaborn as sns\n",
    "import pandas as pd\n",
    "from matplotlib.dates import DateFormatter\n",
    "import matplotlib.dates as mdates\n",
    "import matplotlib.pyplot as plt\n",
    "import folium\n",
    "import matplotcheck.notebook as nb\n",
    "from matplotcheck.base import PlotTester\n",
    "import matplotcheck.autograde as ag\n",
    "import numpy as np\n",
    "\n",
    "# We are adding this for you as there is a bug in hydrofunctions that\n",
    "# Turns off plotting\n",
    "%matplotlib inline\n",
    "\n",
    "# Prettier plotting with seaborn\n",
    "sns.set(font_scale=1.5, style=\"whitegrid\")\n"
   ]
  },
  {
   "cell_type": "markdown",
   "metadata": {},
   "source": [
    "## Get set up to complete your assignment\n",
    "Add cells below to import packages, get data and set your working directory\n",
    "\n",
    "**IMPORTANT: Be sure to set your working directory to `earth-analytics/data`**"
   ]
  },
  {
   "cell_type": "markdown",
   "metadata": {
    "deletable": false,
    "editable": false,
    "nbgrader": {
     "cell_type": "markdown",
     "checksum": "cf9496feeca42114ed95b9901436df12",
     "grade": false,
     "grade_id": "define-functions",
     "locked": true,
     "points": 10,
     "schema_version": 3,
     "solution": false,
     "task": true
    }
   },
   "source": [
    "## Define Function 1 - For Figure 1 (10 points)\n",
    "\n",
    "Create a function that opens up a single `.csv` file containing precipitation data  required  for figure 1\n",
    "* It should then  subset the data to the year range 1989-2018, summarize the data to \n",
    "* Calculate monthly TOTAL (sum) precipitation \n",
    "* To simplify your code below, add a new column to your data with the site name \n",
    "    * (sf or boulder derived from the file name) "
   ]
  },
  {
   "cell_type": "code",
   "execution_count": null,
   "metadata": {
    "deletable": false,
    "nbgrader": {
     "cell_type": "code",
     "checksum": "9424ae5473ef0dc1b29595aa1bbc45ce",
     "grade": false,
     "grade_id": "precip-data-function",
     "locked": false,
     "schema_version": 3,
     "solution": true,
     "task": false
    }
   },
   "outputs": [],
   "source": [
    "# Define your function here using a numpy style doc-string\n",
    "def open_df_daily_to_monthly(data_path):\n",
    "    # YOUR CODE HERE\n",
    "    raise NotImplementedError()"
   ]
  },
  {
   "cell_type": "markdown",
   "metadata": {
    "deletable": false,
    "editable": false,
    "nbgrader": {
     "cell_type": "markdown",
     "checksum": "286afa4d687e44146dfcceeb5b4b1601",
     "grade": false,
     "grade_id": "function-2-points",
     "locked": true,
     "points": 10,
     "schema_version": 3,
     "solution": false,
     "task": true
    }
   },
   "source": [
    "## Define Function 2 - For Figure 2\n",
    "\n",
    "Create a function that takes in a NWIS site number (i.e. '06730500'), a start date, and an end date, and returns a dataframe with the information from the site, including the sites name, latitude, and longitude as columns added into the dataframe hydrofunctions returns.\n",
    "\n",
    "* Use `hf.NWIS(params)` to get a response from the NWIS website\n",
    "* Use `response.df()` to get a dataframe from the NWIS response you got\n",
    "* Use `hf.get_nwis_property(response, property)[0]` to get information about the site you're plotting. `\"siteName\"` will return the site's name, and `\"geoLocation\"` will return a dictionary containing the latitude and longitude. Make sure to add the name, latitude, and longitude as new columns in the dataframe for your output!"
   ]
  },
  {
   "cell_type": "code",
   "execution_count": null,
   "metadata": {
    "deletable": false,
    "nbgrader": {
     "cell_type": "code",
     "checksum": "a5180d78cc5f5013e5808ac4114a2bdf",
     "grade": false,
     "grade_id": "hydrofunctions-function",
     "locked": false,
     "schema_version": 3,
     "solution": true,
     "task": false
    }
   },
   "outputs": [],
   "source": [
    "# In this cell create a function to support figure one that opens\n",
    "# data using hydrofunctions and returns a dataframe  with\n",
    "# x,y location, site name and discharge data\n",
    "\n",
    "def create_df(site, start, end):\n",
    "    # YOUR CODE HERE\n",
    "    raise NotImplementedError()"
   ]
  },
  {
   "cell_type": "code",
   "execution_count": null,
   "metadata": {
    "deletable": false,
    "nbgrader": {
     "cell_type": "code",
     "checksum": "290e8296e99a732e104893ebdeae8ff6",
     "grade": false,
     "grade_id": "plot-precip",
     "locked": false,
     "schema_version": 3,
     "solution": true,
     "task": false
    }
   },
   "outputs": [],
   "source": [
    "# In this cell place only the code to create the figure 1 plot.\n",
    "# Add cells above this cell to process your data. Add a markdown cell that describes\n",
    "# what the plots below show - be sure to include a header in your markdown cell\n",
    "# Remember that you will have a total of 12 values for the first subplot - one for each month.\n",
    "# The max precipitation value for Jan, Feb, March, and so on.\n",
    "# The second plot should have a single value for each year\n",
    "\n",
    "# Add Your Plot Code Here\n",
    "# Add any cells above that you need to process your data\n",
    "# If your plot is not in this cell, the autograder won't run\n",
    "# You can tell that your plot is in the right cell if the \n",
    "# checks that your plot is a line plot pass\n",
    "\n",
    "# YOUR CODE HERE\n",
    "raise NotImplementedError()\n",
    "\n",
    "### DO NOT REMOVE LINE BELOW ###\n",
    "boulder_san_fran_plot = nb.convert_axes(plt, which_axes=\"all\")"
   ]
  },
  {
   "cell_type": "code",
   "execution_count": null,
   "metadata": {
    "deletable": false,
    "editable": false,
    "nbgrader": {
     "cell_type": "code",
     "checksum": "c2ab68b0e071909f40782ca43ebe417c",
     "grade": true,
     "grade_id": "plot-precip-tests-1",
     "locked": true,
     "points": 0,
     "schema_version": 3,
     "solution": false,
     "task": false
    }
   },
   "outputs": [],
   "source": [
    "# DO NOT MODIFY THIS CELL\n",
    "# Make sure that the cell above this is the cell where you create your plot!\n",
    "\n",
    "# Tests to ensure your plot is being read by the autograder.\n",
    "\n",
    "monthly_median = PlotTester(boulder_san_fran_plot[0])\n",
    "annual_maximum = PlotTester(boulder_san_fran_plot[1])\n",
    "\n",
    "test_plot_1_top_type = ag.run_test(monthly_median.assert_plot_type,\n",
    "                                   plot_type=\"line\",\n",
    "                                   points=0,\n",
    "                                   correct_message=\"\\u2705 Your top plot is being found by the autograder and is a line plot!\",\n",
    "                                   error_message=\"\\u274C Your top plot is either not being found by the autograder or is not a line plot.\")\n",
    "\n",
    "\n",
    "test_plot_1_bottom_type = ag.run_test(annual_maximum.assert_plot_type,\n",
    "                                      plot_type=\"line\",\n",
    "                                      points=0,\n",
    "                                      correct_message=\"\\u2705 Your bottom plot is being found by the autograder and is a line plot!\",\n",
    "                                      error_message=\"\\u274C Your bottom plot is either not being found by the autograder or is not a line plot.\")\n",
    "\n",
    "print(test_plot_1_top_type[\"message\"])\n",
    "\n",
    "print(test_plot_1_bottom_type[\"message\"])\n"
   ]
  },
  {
   "cell_type": "code",
   "execution_count": null,
   "metadata": {
    "deletable": false,
    "editable": false,
    "nbgrader": {
     "cell_type": "code",
     "checksum": "fba7fa9aa42697676d42bd5cf4ede9f6",
     "grade": true,
     "grade_id": "plot-precip-tests-2",
     "locked": true,
     "points": 30,
     "schema_version": 3,
     "solution": false,
     "task": false
    }
   },
   "outputs": [],
   "source": [
    "# DO NOT MODIFY THIS CELL"
   ]
  },
  {
   "cell_type": "markdown",
   "metadata": {
    "deletable": false,
    "editable": false,
    "nbgrader": {
     "cell_type": "markdown",
     "checksum": "22aa85ba3cfd0cb615c6b0fa6514dfa6",
     "grade": false,
     "grade_id": "manual-grading-plot-1",
     "locked": true,
     "points": 20,
     "schema_version": 3,
     "solution": false,
     "task": true
    }
   },
   "source": [
    "### Manual Grade for Plot 1\n",
    "\n",
    "- Plots have appropriate titles\n",
    "- Plots have appropriate x and y labels\n",
    "- Each line is a unique color\n",
    "- Legend has appropriate key words and is displayed correctly"
   ]
  },
  {
   "cell_type": "markdown",
   "metadata": {
    "deletable": false,
    "editable": false,
    "nbgrader": {
     "cell_type": "markdown",
     "checksum": "c35e6bba715216263d75c41f15901f76",
     "grade": false,
     "grade_id": "discharge-instructions",
     "locked": true,
     "schema_version": 3,
     "solution": false,
     "task": false
    }
   },
   "source": [
    "## Figure 2: Stream Discharge For 2013 Colorado Floods\n",
    "\n",
    "Create a figure containing stream discharge data for the time period:\n",
    "`start='1990-01-01', end='2018-12-31'` and for the sites `\"06730500\", \"09105000\", \"07106300\", \"07126390\"`. Automate your workflow\n",
    "using loops and a function which processes data for each site and adds the data to a DataFrame.\n",
    "Add as many cells as you want below to process your data.  But be sure to add your plot code to\n",
    "the cell that says \"Add Your Plot Code Here\". If the tests checking that your plots are line plots \n",
    "don't run, then the autograder won't run either. \n",
    "\n",
    "HINT: You can adjust the legend location and font size using:\n",
    "`plt.legend(bbox_to_anchor=(1.05, 1), loc='upper left', prop={'size': 11})`"
   ]
  },
  {
   "cell_type": "code",
   "execution_count": null,
   "metadata": {
    "deletable": false,
    "nbgrader": {
     "cell_type": "code",
     "checksum": "b51dddef66d43a57ab85c0f4d1487c62",
     "grade": false,
     "grade_id": "plot-data-discharge",
     "locked": false,
     "schema_version": 3,
     "solution": true,
     "task": false
    }
   },
   "outputs": [],
   "source": [
    "# Add Your Plot Code Here\n",
    "# Add any cells above that you need to process your data\n",
    "\n",
    "# YOUR CODE HERE\n",
    "raise NotImplementedError()\n",
    "\n",
    "### DO NOT REMOVE LINE BELOW ###\n",
    "co_streams_plot = nb.convert_axes(plt, which_axes=\"all\")"
   ]
  },
  {
   "cell_type": "code",
   "execution_count": null,
   "metadata": {
    "deletable": false,
    "editable": false,
    "nbgrader": {
     "cell_type": "code",
     "checksum": "e8d5420d0ce3021171bc6ff6d59748c5",
     "grade": true,
     "grade_id": "plot-discharge-test-1",
     "locked": true,
     "points": 0,
     "schema_version": 3,
     "solution": false,
     "task": false
    }
   },
   "outputs": [],
   "source": [
    "# DO NOT MODIFY THIS CELL\n",
    "\n",
    "daily_mean = PlotTester(co_streams_plot[0])\n",
    "annual_maximum_2 = PlotTester(co_streams_plot[1])\n",
    "\n",
    "test_plot_2_top_type = ag.run_test(daily_mean.assert_plot_type,\n",
    "                                   plot_type=\"line\",\n",
    "                                   points=0,\n",
    "                                   correct_message=\"\\u2705 Your top plot is being found by the autograder and is a line plot!\",\n",
    "                                   error_message=\"\\u274C Your top plot is either not being found by the autograder or is not a line plot.\")\n",
    "\n",
    "\n",
    "test_plot_2_bottom_type = ag.run_test(annual_maximum_2.assert_plot_type,\n",
    "                                      plot_type=\"line\",\n",
    "                                      points=0,\n",
    "                                      correct_message=\"\\u2705 Your bottom plot is being found by the autograder and is a line plot!\",\n",
    "                                      error_message=\"\\u274C Your bottom plot is either not being found by the autograder or is not a line plot.\")\n",
    "\n",
    "print(test_plot_2_top_type[\"message\"])\n",
    "\n",
    "print(test_plot_2_bottom_type[\"message\"])\n"
   ]
  },
  {
   "cell_type": "code",
   "execution_count": null,
   "metadata": {
    "deletable": false,
    "editable": false,
    "nbgrader": {
     "cell_type": "code",
     "checksum": "511d6006294e2c8f46b1f55a46af499f",
     "grade": true,
     "grade_id": "plot-discharge-tests-2",
     "locked": true,
     "points": 30,
     "schema_version": 3,
     "solution": false,
     "task": false
    }
   },
   "outputs": [],
   "source": [
    "# DO NOT MODIFY THIS CELL"
   ]
  },
  {
   "cell_type": "markdown",
   "metadata": {
    "deletable": false,
    "editable": false,
    "nbgrader": {
     "cell_type": "markdown",
     "checksum": "557debee4c6948f9fdd86eecf8cf6322",
     "grade": false,
     "grade_id": "manual-grading-plot-2",
     "locked": true,
     "points": 20,
     "schema_version": 3,
     "solution": false,
     "task": true
    }
   },
   "source": [
    "### Manual Grading for Plot 2\n",
    "\n",
    "- Plots have appropriate titles\n",
    "- Plots have appropriate x and y labels\n",
    "- Each line is a unique color\n",
    "- Legend has appropriate key words and is displayed correctly"
   ]
  },
  {
   "cell_type": "markdown",
   "metadata": {
    "deletable": false,
    "editable": false,
    "nbgrader": {
     "cell_type": "markdown",
     "checksum": "c4eb72f2bfebdfb2c055d56a3d0519a8",
     "grade": false,
     "grade_id": "folium-instructions",
     "locked": true,
     "schema_version": 3,
     "solution": false,
     "task": false
    }
   },
   "source": [
    "## Figure 3: Stream Gage Locations Interactive Map\n",
    "\n",
    "Create an interactive `folium` that shows the 4 stream gage locations that \n",
    "you downloaded data for above. BONUS: Add a popup to the map with the \n",
    "gage site name in it.\n",
    "\n",
    "You can use the code below to get a start on creating the interactive map.\n",
    "\n",
    "```\n",
    "m = folium.Map(location=[39.0150, -105.2705],\n",
    "               tiles='Stamen Terrain',\n",
    "               zoom_start=7)\n",
    "\n",
    "\n",
    "for name, xy in gages_dataframe_name_here.groupby([\"name_column\"]):\n",
    "    folium.Marker(\n",
    "        location=[xy.lat[0], xy.long[0]],\n",
    "        popup=name, \n",
    "        icon=folium.Icon()\n",
    "    ).add_to(m)\n",
    "```"
   ]
  },
  {
   "cell_type": "code",
   "execution_count": null,
   "metadata": {
    "deletable": false,
    "nbgrader": {
     "cell_type": "code",
     "checksum": "f34f1d6edfe99171198b46074f4bf04a",
     "grade": false,
     "grade_id": "folium-solution",
     "locked": false,
     "schema_version": 3,
     "solution": true,
     "task": false
    }
   },
   "outputs": [],
   "source": [
    "# Add your code to create a folium map here\n",
    "# YOUR CODE HERE\n",
    "raise NotImplementedError()"
   ]
  },
  {
   "cell_type": "markdown",
   "metadata": {
    "deletable": false,
    "editable": false,
    "nbgrader": {
     "cell_type": "markdown",
     "checksum": "352d8bd833a82e930829300a8a8bb8ff",
     "grade": false,
     "grade_id": "cell-eef9b0a13aa3aaab",
     "locked": true,
     "points": 20,
     "schema_version": 3,
     "solution": false,
     "task": true
    }
   },
   "source": [
    "## Manual Grade: Folium Stream Gage Location Plot\n",
    "\n",
    "* Interactive folium map is created above with a basemap of the students choice (10 points)\n",
    "* Plot contains 4 stream gage locations in the correct place (10 points)\n",
    "* BONUS: Plot contains a popup box with the site name in it (5 points)\n",
    "\n",
    "NOTE: just in case you were wondering... the USGS  does spell stream gage (**gage** not **guage**).\n",
    "We follow their spelling lead in our assignments and lessons."
   ]
  },
  {
   "cell_type": "markdown",
   "metadata": {
    "deletable": false,
    "editable": false,
    "nbgrader": {
     "cell_type": "markdown",
     "checksum": "470b56f261fa662583e2df48ff1bc4ad",
     "grade": false,
     "grade_id": "requirements",
     "locked": true,
     "points": 30,
     "schema_version": 3,
     "solution": false,
     "task": true
    }
   },
   "source": [
    "## Manual Grade: Clean Code Requirements (30 points)\n",
    "In this cell, we will give you points for the following\n",
    "\n",
    "* Notebook uses loops and functions to make code more efficient and clean\n",
    "  * Notebook uses loops to plot rather than manually creating each axis \n",
    "* Notebook uses DRY approaches (don't repeat yourself) to avoid \"copy pasta\" style repetitive code\n"
   ]
  },
  {
   "cell_type": "markdown",
   "metadata": {
    "deletable": false,
    "editable": false,
    "nbgrader": {
     "cell_type": "markdown",
     "checksum": "edcd8afabf900067dbdef455815d3d5d",
     "grade": false,
     "grade_id": "cell-736dbb0bd238d72a",
     "locked": true,
     "points": 20,
     "schema_version": 3,
     "solution": false,
     "task": true
    }
   },
   "source": [
    "## Manual Grade: Markdown Cells Are Used to Organization Code\n",
    "\n",
    "* Markdown cells are used to organize code (5)\n",
    "* Patterns observed in each figure are described in a markdown cell below that figure (15)"
   ]
  },
  {
   "cell_type": "markdown",
   "metadata": {
    "deletable": false,
    "editable": false,
    "nbgrader": {
     "cell_type": "markdown",
     "checksum": "69bbd1154168f77fe86e7ecc6ba8a141",
     "grade": false,
     "grade_id": "pep-8-grade",
     "locked": true,
     "points": 10,
     "schema_version": 3,
     "solution": false,
     "task": true
    }
   },
   "source": [
    "## Manual Grade: Pep 8, Spelling and Does the Notebook Run?\n",
    "In this cell, we will give you points for the following\n",
    "\n",
    "1. PEP 8 is followed throughout the notebook \n",
    "2. Spelling and grammar are considered in your written responses above\n",
    "3. The notebook runs from top to bottom without any editing (it is reproducible)"
   ]
  }
 ],
 "metadata": {
  "kernelspec": {
   "display_name": "Python 3 (ipykernel)",
   "language": "python",
   "name": "python3"
  },
  "language_info": {
   "codemirror_mode": {
    "name": "ipython",
    "version": 3
   },
   "file_extension": ".py",
   "mimetype": "text/x-python",
   "name": "python",
   "nbconvert_exporter": "python",
   "pygments_lexer": "ipython3",
   "version": "3.8.12"
  },
  "toc": {
   "base_numbering": 1,
   "nav_menu": {},
   "number_sections": true,
   "sideBar": true,
   "skip_h1_title": true,
   "title_cell": "Table of Contents",
   "title_sidebar": "Contents",
   "toc_cell": false,
   "toc_position": {},
   "toc_section_display": true,
   "toc_window_display": true
  },
  "varInspector": {
   "cols": {
    "lenName": 16,
    "lenType": 16,
    "lenVar": 40
   },
   "kernels_config": {
    "python": {
     "delete_cmd_postfix": "",
     "delete_cmd_prefix": "del ",
     "library": "var_list.py",
     "varRefreshCmd": "print(var_dic_list())"
    },
    "r": {
     "delete_cmd_postfix": ") ",
     "delete_cmd_prefix": "rm(",
     "library": "var_list.r",
     "varRefreshCmd": "cat(var_dic_list()) "
    }
   },
   "types_to_exclude": [
    "module",
    "function",
    "builtin_function_or_method",
    "instance",
    "_Feature"
   ],
   "window_display": false
  }
 },
 "nbformat": 4,
 "nbformat_minor": 2
}
